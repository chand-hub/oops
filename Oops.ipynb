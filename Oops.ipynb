{
  "nbformat": 4,
  "nbformat_minor": 0,
  "metadata": {
    "colab": {
      "provenance": []
    },
    "kernelspec": {
      "name": "python3",
      "display_name": "Python 3"
    },
    "language_info": {
      "name": "python"
    }
  },
  "cells": [
    {
      "cell_type": "markdown",
      "source": [
        "1.What is Object-Oriented Programming (OOP)?\n",
        "\n",
        "-> OOP is a powerful programming paradigm that helps developers create robust, scalable, and maintainable software systems.\n",
        "\n",
        "2. What is a class in OOP?\n",
        "\n",
        "-> In Object-Oriented Programming (OOP), a class is a blueprint or template that defines the properties and behavior of an object. It's a fundamental concept that helps create objects with similar characteristics and behaviors.\n",
        "\n",
        "3. What is an object in OOP?\n",
        "-> In Object-Oriented Programming (OOP), an object is an instance of a class, representing a real-world entity or concept. It has its own set of attributes (data) and methods (functions) that describe its characteristics and behavior.\n",
        "\n",
        "4. What is the difference between abstraction and encapsulation?\n",
        "-> Abstraction:\n",
        "\n",
        "Abstraction is the process of exposing only the essential features of an object or system while hiding the internal details. It focuses on defining an interface or a contract that specifies what an object can do, without revealing how it's done.\n",
        "\n",
        "Encapsulation:\n",
        "\n",
        "Encapsulation is the process of bundling data and its associated methods that operate on that data within a single unit, such as a class or object. It helps hide the internal implementation details and protects the data from external interference.\n",
        "\n",
        "5. What are dunder methods in Python?\n",
        "-> Dunder methods, short for \"double underscore\" methods, are special methods in Python that are surrounded by double underscores (__) on either side of the method name. These methods are used to define custom behavior for operators, functions, and other built-in operations.\n",
        "\n",
        "6. Explain the concept of inheritance in OOP.\n",
        "-> Inheritance is a fundamental concept in Object-Oriented Programming (OOP) that allows one class to inherit the properties, methods, and behavior of another class. The inheriting class, called the subclass or derived class, inherits the characteristics of the parent class, called the superclass or base class.\n",
        "\n",
        "7.What is polymorphism in OOP?\n",
        "\n",
        "-> Polymorphism is a fundamental concept in Object-Oriented Programming (OOP) that allows objects of different classes to be treated as objects of a common superclass. This enables objects of different classes to respond to the same method call in their own unique way.\n",
        "8. How is encapsulation achieved in Python?\n",
        "-> Encapsulation is achieved in Python through the use of classes and objects. Python provides several ways to encapsulate data and behavior.\n",
        "9. What are the advantages of OOP?\n",
        "\n",
        "-> 1. Modularity: OOP allows developers to break down complex systems into smaller, independent modules (classes and objects) that can be developed, tested, and maintained separately.\n",
        "2. Reusability: OOP enables developers to create reusable code by defining classes and objects that can be used in multiple contexts, reducing code duplication and improving productivity.\n",
        "3. Flexibility: OOP provides flexibility in programming by allowing developers to create objects that can adapt to different situations and requirements, making it easier to modify or extend existing code.\n",
        "4. Easier maintenance: OOP makes it easier to maintain and modify existing code by providing a clear and organized structure, reducing the risk of introducing bugs or errors.\n",
        "5. Improved readability: OOP promotes code readability by providing a clear and concise way to define classes, objects, and relationships, making it easier for developers to understand and work with complex systems.\n",
        "10.  What is the difference between a class variable and an instance variable?\n",
        "-> Class Variables:\n",
        "\n",
        "1. Shared by all instances: Class variables are shared by all instances of a class.\n",
        "2. Defined at the class level: Class variables are defined at the class level, outside of any method.\n",
        "3. Accessed using the class name: Class variables can be accessed using the class name or an instance of the class.\n",
        "\n",
        "Instance Variables:\n",
        "\n",
        "1. Unique to each instance: Instance variables are unique to each instance of a class.\n",
        "2. Defined at the instance level: Instance variables are defined at the instance level, typically in the __init__ method.\n",
        "3. Accessed using the instance name: Instance variables are accessed using the instance name.\n",
        "11.  What is multiple inheritance in Python?\n",
        "-> Multiple inheritance is a feature of Python that allows a class to inherit from multiple parent classes. This means that a child class can inherit attributes and methods from multiple parent classes, combining their functionality.\n",
        "12. Explain the purpose of ‘’__str__’ and ‘__repr__’ ‘ methods in PythonH.\n",
        "-> __str__ and __repr__ Methods in Python:\n",
        "\n",
        "In Python, __str__ and __repr__ are two special methods that are used to represent objects as strings.\n",
        "\n",
        "__str__ Method:\n",
        "\n",
        "1. Human-readable representation: The __str__ method returns a human-readable string representation of an object.\n",
        "2. Used for display purposes: __str__ is used when you want to display an object in a user-friendly way, such as when printing an object.\n",
        "3. Should be readable and concise: The string returned by __str__ should be readable and concise, providing a clear understanding of the object's state.\n",
        "\n",
        "__repr__ Method:\n",
        "\n",
        "1. Unambiguous representation: The __repr__ method returns an unambiguous string representation of an object, which can be used to recreate the object.\n",
        "2. Used for debugging purposes: __repr__ is used when you want to get a detailed and accurate representation of an object, such as when debugging.\n",
        "3. Should be a valid Python expression: The string returned by __repr__ should be a valid Python expression that can be used to recreate the object.\n",
        "\n",
        " 13.  What is the significance of the ‘super()’ function in Python?\n",
        "-> The super() function in Python is used to give access to methods and properties of a parent or sibling class. It returns a temporary object of the superclass that allows access to methods and properties of the parent class.\n",
        "14. What is the significance of the __del__ method in Python?\n",
        "-> The __del__ method in Python is a special method that is called when an object is about to be destroyed. It is also known as a finalizer or destructor.\n",
        "15. What is the difference between @staticmethod and @classmethod in Python?\n",
        "-> @staticmethod:\n",
        "\n",
        "1. No access to class or instance: A static method has no access to the class or instance it is called on.\n",
        "2. No self or cls parameter: A static method does not take a self or cls parameter.\n",
        "3. Useful for utility functions: Static methods are useful for defining utility functions that belong to a class but do not depend on the class or instance state.\n",
        "\n",
        "@classmethod:\n",
        "\n",
        "1. Access to class: A class method has access to the class it is called on.\n",
        "2. cls parameter: A class method takes a cls parameter that refers to the class.\n",
        "3. Useful for alternative constructors: Class methods are useful for defining alternative constructors or methods that operate on the class level.\n",
        "\n",
        "\n",
        "16. How does polymorphism work in Python with inheritance?\n",
        "-> Polymorphism is the ability of an object to take on multiple forms. In Python, polymorphism can be achieved through inheritance, where a subclass inherits the properties and methods of a parent class and can also add new properties and methods or override the ones inherited from the parent class.\n",
        "\n",
        "17. What is method chaining in Python OOP?\n",
        "-> Method chaining is a programming technique in Python where multiple methods are called on the same object in a single line of code. This is achieved by returning the object itself (self) from each method, allowing the next method to be called on the same object.\n",
        "\n",
        "18. What is the purpose of the __call__ method in Python?\n",
        "-> The __call__ method in Python is a special method that allows an object to be called as a function. This method is invoked when an object is used as a callable, such as when it's called with parentheses ().\n",
        "\n"
      ],
      "metadata": {
        "id": "n-Tit2n5UaQX"
      }
    },
    {
      "cell_type": "code",
      "source": [
        "#Create a parent class Animal with a method speak() that prints a generic message. Create a child class Dog\n",
        "that overrides the speak() method to print \"Bark!\n",
        "\"\"\"class Animal:\n",
        "    def speak(self):\n",
        "        print(\"Generic animal sound\")\n",
        "\n",
        "class Dog(Animal):\n",
        "    def speak(self):\n",
        "        print(\"Bark!\")\"\"\""
      ],
      "metadata": {
        "colab": {
          "base_uri": "https://localhost:8080/",
          "height": 106
        },
        "id": "nHVXGSWC6yuH",
        "outputId": "9461f778-fe93-4968-ac78-e93bbcc170cc"
      },
      "execution_count": 3,
      "outputs": [
        {
          "output_type": "error",
          "ename": "SyntaxError",
          "evalue": "unterminated string literal (detected at line 2) (<ipython-input-3-a3ab512a885e>, line 2)",
          "traceback": [
            "\u001b[0;36m  File \u001b[0;32m\"<ipython-input-3-a3ab512a885e>\"\u001b[0;36m, line \u001b[0;32m2\u001b[0m\n\u001b[0;31m    that overrides the speak() method to print \"Bark!\u001b[0m\n\u001b[0m                                               ^\u001b[0m\n\u001b[0;31mSyntaxError\u001b[0m\u001b[0;31m:\u001b[0m unterminated string literal (detected at line 2)\n"
          ]
        }
      ]
    },
    {
      "cell_type": "code",
      "source": [
        "# Write a program to create an abstract class Shape with a method area(). Derive classes Circle and Rectangle\n",
        "from it and implement the area() method in both.\n",
        "\"\"\"from abc import ABC, abstractmethod\n",
        "\n",
        "class Shape(ABC):\n",
        "    @abstractmethod\n",
        "    def area(self):\n",
        "        pass\"\"\""
      ],
      "metadata": {
        "colab": {
          "base_uri": "https://localhost:8080/",
          "height": 106
        },
        "id": "fyuyXFammUiY",
        "outputId": "6c86a274-097c-4290-c48f-a2060e877ae0"
      },
      "execution_count": 4,
      "outputs": [
        {
          "output_type": "error",
          "ename": "SyntaxError",
          "evalue": "invalid syntax (<ipython-input-4-a9d3addbd90b>, line 2)",
          "traceback": [
            "\u001b[0;36m  File \u001b[0;32m\"<ipython-input-4-a9d3addbd90b>\"\u001b[0;36m, line \u001b[0;32m2\u001b[0m\n\u001b[0;31m    from it and implement the area() method in both.\u001b[0m\n\u001b[0m            ^\u001b[0m\n\u001b[0;31mSyntaxError\u001b[0m\u001b[0;31m:\u001b[0m invalid syntax\n"
          ]
        }
      ]
    },
    {
      "cell_type": "code",
      "source": [
        "# Implement a multi-level inheritance scenario where a class Vehicle has an attribute type. Derive a class Car\n",
        "and further derive a class ElectricCar that adds a battery attribute.\n",
        "\"\"\"class Vehicle:\n",
        "    def __init__(self, type):\n",
        "        self.type = type\n",
        "        def display_type(self):\n",
        "          print(f\"Vehicle Type:{self.type}\")\"\"\""
      ],
      "metadata": {
        "colab": {
          "base_uri": "https://localhost:8080/",
          "height": 106
        },
        "id": "DTh9NeFznV_u",
        "outputId": "dd7df468-1a6b-4231-eb73-1074c2f78504"
      },
      "execution_count": 6,
      "outputs": [
        {
          "output_type": "error",
          "ename": "SyntaxError",
          "evalue": "invalid syntax (<ipython-input-6-5cb082b7bee1>, line 2)",
          "traceback": [
            "\u001b[0;36m  File \u001b[0;32m\"<ipython-input-6-5cb082b7bee1>\"\u001b[0;36m, line \u001b[0;32m2\u001b[0m\n\u001b[0;31m    and further derive a class ElectricCar that adds a battery attribute.\u001b[0m\n\u001b[0m    ^\u001b[0m\n\u001b[0;31mSyntaxError\u001b[0m\u001b[0;31m:\u001b[0m invalid syntax\n"
          ]
        }
      ]
    },
    {
      "cell_type": "code",
      "source": [
        "#Demonstrate polymorphism by creating a base class Bird with a method fly(). Create two derived classes\n",
        "Sparrow and Penguin that override the fly() method.\n",
        "lass Bird:\n",
        "    def fly(self):\n",
        "        \"\"\"\n",
        "        Base method for flying.\n",
        "        \"\"\"\n",
        "        return \"Most birds can fly.\"\n",
        "\n",
        "class Sparrow(Bird):\n",
        "    def fly(self):\n",
        "        \"\"\"\n",
        "        Sparrows fly by flapping their wings rapidly.\n",
        "        \"\"\"\n",
        "        return \"The sparrow flutters its wings and flies gracefully.\"\n",
        "\n",
        "class Penguin(Bird):\n",
        "    def fly(self):\n",
        "        \"\"\"\n",
        "        Penguins cannot fly in the traditional sense, but they are excellent swimmers.\n",
        "        \"\"\"\n",
        "        return \"The penguin cannot fly, but it glides through the water with remarkable agility.\"\n",
        "\n"
      ],
      "metadata": {
        "colab": {
          "base_uri": "https://localhost:8080/",
          "height": 106
        },
        "id": "TuZTjqfLnuVe",
        "outputId": "1dae78a2-e812-454b-e3e5-f19bd1a2c151"
      },
      "execution_count": 7,
      "outputs": [
        {
          "output_type": "error",
          "ename": "SyntaxError",
          "evalue": "invalid syntax (<ipython-input-7-791493ff9a25>, line 2)",
          "traceback": [
            "\u001b[0;36m  File \u001b[0;32m\"<ipython-input-7-791493ff9a25>\"\u001b[0;36m, line \u001b[0;32m2\u001b[0m\n\u001b[0;31m    Sparrow and Penguin that override the fly() method.\u001b[0m\n\u001b[0m                        ^\u001b[0m\n\u001b[0;31mSyntaxError\u001b[0m\u001b[0;31m:\u001b[0m invalid syntax\n"
          ]
        }
      ]
    },
    {
      "cell_type": "code",
      "source": [
        "Write a program to demonstrate encapsulation by creating a class BankAccount with private attributes\n",
        "balance and methods to deposit, withdraw, and check balance.\n",
        "class BankAccount:\n",
        "    def __init__(self, initial_balance=0):\n",
        "        self._balance = initial_balance"
      ],
      "metadata": {
        "colab": {
          "base_uri": "https://localhost:8080/",
          "height": 106
        },
        "id": "3HNtK4h6pVWO",
        "outputId": "3ea80ecc-a625-48ce-d5ca-32a1e15e4da2"
      },
      "execution_count": 8,
      "outputs": [
        {
          "output_type": "error",
          "ename": "SyntaxError",
          "evalue": "invalid syntax (<ipython-input-8-50fd1d25b356>, line 1)",
          "traceback": [
            "\u001b[0;36m  File \u001b[0;32m\"<ipython-input-8-50fd1d25b356>\"\u001b[0;36m, line \u001b[0;32m1\u001b[0m\n\u001b[0;31m    Write a program to demonstrate encapsulation by creating a class BankAccount with private attributes\u001b[0m\n\u001b[0m          ^\u001b[0m\n\u001b[0;31mSyntaxError\u001b[0m\u001b[0;31m:\u001b[0m invalid syntax\n"
          ]
        }
      ]
    },
    {
      "cell_type": "code",
      "source": [
        " Demonstrate runtime polymorphism using a method play() in a base class Instrument. Derive classes Guitar\n",
        "and Piano that implement their own version of play().\n",
        "class Instrument:\n",
        "    def play(self):\n",
        "        print(\"This is a generic instrument.\")"
      ],
      "metadata": {
        "colab": {
          "base_uri": "https://localhost:8080/",
          "height": 106
        },
        "id": "Cx9Z7dpYpi55",
        "outputId": "df98904a-1076-443d-a9c1-f43f300b7ece"
      },
      "execution_count": 9,
      "outputs": [
        {
          "output_type": "error",
          "ename": "SyntaxError",
          "evalue": "invalid syntax (<ipython-input-9-da9aec1be7cf>, line 1)",
          "traceback": [
            "\u001b[0;36m  File \u001b[0;32m\"<ipython-input-9-da9aec1be7cf>\"\u001b[0;36m, line \u001b[0;32m1\u001b[0m\n\u001b[0;31m    Demonstrate runtime polymorphism using a method play() in a base class Instrument. Derive classes Guitar\u001b[0m\n\u001b[0m                ^\u001b[0m\n\u001b[0;31mSyntaxError\u001b[0m\u001b[0;31m:\u001b[0m invalid syntax\n"
          ]
        }
      ]
    },
    {
      "cell_type": "code",
      "source": [
        "Create a class MathOperations with a class method add_numbers() to add two numbers and a static\n",
        "method subtract_numbers() to subtract two numbers.\n",
        "class MathOperations:\n",
        "    @classmethod\n",
        "    def add_numbers(cls, a, b):\n",
        "        return a + b\n",
        "\n",
        "    @staticmethod\n",
        "    def subtract_numbers(a, b):\n",
        "        return a - b"
      ],
      "metadata": {
        "colab": {
          "base_uri": "https://localhost:8080/",
          "height": 106
        },
        "id": "Ww0UlvvEpqPF",
        "outputId": "1d004638-97ae-4da9-b00b-c5012af4c5eb"
      },
      "execution_count": 10,
      "outputs": [
        {
          "output_type": "error",
          "ename": "SyntaxError",
          "evalue": "invalid syntax (<ipython-input-10-1070cff9e3c9>, line 1)",
          "traceback": [
            "\u001b[0;36m  File \u001b[0;32m\"<ipython-input-10-1070cff9e3c9>\"\u001b[0;36m, line \u001b[0;32m1\u001b[0m\n\u001b[0;31m    Create a class MathOperations with a class method add_numbers() to add two numbers and a static\u001b[0m\n\u001b[0m           ^\u001b[0m\n\u001b[0;31mSyntaxError\u001b[0m\u001b[0;31m:\u001b[0m invalid syntax\n"
          ]
        }
      ]
    },
    {
      "cell_type": "code",
      "source": [
        " Implement a class Person with a class method to count the total number of persons created.\n",
        "  class Person:\n",
        "    count = 0\n",
        "\n",
        "    def __init__(self):\n",
        "        Person.count += 1\n",
        "\n",
        "    @classmethod\n",
        "    def get_count(cls):\n",
        "        return cls.count"
      ],
      "metadata": {
        "colab": {
          "base_uri": "https://localhost:8080/",
          "height": 106
        },
        "id": "9BMVuq6WqQPf",
        "outputId": "c3c7da7f-f038-4113-c009-3a7b73919666"
      },
      "execution_count": 11,
      "outputs": [
        {
          "output_type": "error",
          "ename": "SyntaxError",
          "evalue": "invalid syntax (<ipython-input-11-9b539fe16062>, line 1)",
          "traceback": [
            "\u001b[0;36m  File \u001b[0;32m\"<ipython-input-11-9b539fe16062>\"\u001b[0;36m, line \u001b[0;32m1\u001b[0m\n\u001b[0;31m    Implement a class Person with a class method to count the total number of persons created.\u001b[0m\n\u001b[0m              ^\u001b[0m\n\u001b[0;31mSyntaxError\u001b[0m\u001b[0;31m:\u001b[0m invalid syntax\n"
          ]
        }
      ]
    },
    {
      "cell_type": "code",
      "source": [
        " Write a class Fraction with attributes numerator and denominator. Override the str method to display the\n",
        "fraction as \"numerator/denominator\".\n",
        "class Fraction:\n",
        "    def __init__(self, numerator, denominator):\n",
        "        self.numerator = numerator\n",
        "        self.denominator = denominator\n",
        "\n",
        "    def __str__(self):\n",
        "        return f\"{self.numerator}/{self.denominator}\""
      ],
      "metadata": {
        "colab": {
          "base_uri": "https://localhost:8080/",
          "height": 106
        },
        "id": "l06Yhh51q6cr",
        "outputId": "d996c377-95ac-44dd-d0f7-51ede2f82535"
      },
      "execution_count": 12,
      "outputs": [
        {
          "output_type": "error",
          "ename": "SyntaxError",
          "evalue": "invalid syntax (<ipython-input-12-cff959f5a756>, line 1)",
          "traceback": [
            "\u001b[0;36m  File \u001b[0;32m\"<ipython-input-12-cff959f5a756>\"\u001b[0;36m, line \u001b[0;32m1\u001b[0m\n\u001b[0;31m    Write a class Fraction with attributes numerator and denominator. Override the str method to display the\u001b[0m\n\u001b[0m          ^\u001b[0m\n\u001b[0;31mSyntaxError\u001b[0m\u001b[0;31m:\u001b[0m invalid syntax\n"
          ]
        }
      ]
    },
    {
      "cell_type": "code",
      "source": [
        " Demonstrate operator overloading by creating a class Vector and overriding the add method to add two\n",
        "vectors.\n",
        "   class Vector:\n",
        "    def __init__(self, x, y):\n",
        "        self.x = x\n",
        "        self.y = y\n",
        "\n",
        "    def __add__(self, other):\n",
        "        return Vector(self.x + other.x, self.y + other.y)"
      ],
      "metadata": {
        "colab": {
          "base_uri": "https://localhost:8080/",
          "height": 106
        },
        "id": "Q2jMuRbMr14Y",
        "outputId": "022e2a9c-7ec1-4072-a010-ea1567196664"
      },
      "execution_count": 13,
      "outputs": [
        {
          "output_type": "error",
          "ename": "SyntaxError",
          "evalue": "invalid syntax (<ipython-input-13-4475f7f99a4d>, line 1)",
          "traceback": [
            "\u001b[0;36m  File \u001b[0;32m\"<ipython-input-13-4475f7f99a4d>\"\u001b[0;36m, line \u001b[0;32m1\u001b[0m\n\u001b[0;31m    Demonstrate operator overloading by creating a class Vector and overriding the add method to add two\u001b[0m\n\u001b[0m                ^\u001b[0m\n\u001b[0;31mSyntaxError\u001b[0m\u001b[0;31m:\u001b[0m invalid syntax\n"
          ]
        }
      ]
    },
    {
      "cell_type": "code",
      "source": [
        " Create a class Person with attributes name and age. Add a method greet() that prints \"Hello, my name is\n",
        "{name} and I am {age} years old\n",
        " class Person:\n",
        "    def __init__(self, name, age):\n",
        "        self.name = name\n",
        "        self.age = age\n",
        "\n",
        "    def greet(self):\n",
        "        print(f\"Hello, my name is {self.name} and I am {self.age} years old"
      ],
      "metadata": {
        "colab": {
          "base_uri": "https://localhost:8080/",
          "height": 106
        },
        "id": "CnZiKviYsahs",
        "outputId": "3ebd5538-748c-4f54-f80c-3fad694892f6"
      },
      "execution_count": 14,
      "outputs": [
        {
          "output_type": "error",
          "ename": "SyntaxError",
          "evalue": "unterminated string literal (detected at line 1) (<ipython-input-14-9eba604f86cb>, line 1)",
          "traceback": [
            "\u001b[0;36m  File \u001b[0;32m\"<ipython-input-14-9eba604f86cb>\"\u001b[0;36m, line \u001b[0;32m1\u001b[0m\n\u001b[0;31m    Create a class Person with attributes name and age. Add a method greet() that prints \"Hello, my name is\u001b[0m\n\u001b[0m                                                                                         ^\u001b[0m\n\u001b[0;31mSyntaxError\u001b[0m\u001b[0;31m:\u001b[0m unterminated string literal (detected at line 1)\n"
          ]
        }
      ]
    },
    {
      "cell_type": "code",
      "source": [
        "Implement a class Student with attributes name and grades. Create a method average_grade() to compute\n",
        "the average of the grades.\n",
        "class Student:\n",
        "    def __init__(self, name):\n",
        "        self.name = name\n",
        "        self.grades = []"
      ],
      "metadata": {
        "colab": {
          "base_uri": "https://localhost:8080/",
          "height": 106
        },
        "id": "80BsQ2qqs_Eh",
        "outputId": "869217ea-1edc-42d0-849b-e82a8bad4e98"
      },
      "execution_count": 15,
      "outputs": [
        {
          "output_type": "error",
          "ename": "SyntaxError",
          "evalue": "invalid syntax (<ipython-input-15-85408560755f>, line 1)",
          "traceback": [
            "\u001b[0;36m  File \u001b[0;32m\"<ipython-input-15-85408560755f>\"\u001b[0;36m, line \u001b[0;32m1\u001b[0m\n\u001b[0;31m    Implement a class Student with attributes name and grades. Create a method average_grade() to compute\u001b[0m\n\u001b[0m              ^\u001b[0m\n\u001b[0;31mSyntaxError\u001b[0m\u001b[0;31m:\u001b[0m invalid syntax\n"
          ]
        }
      ]
    },
    {
      "cell_type": "code",
      "source": [
        " Create a class Rectangle with methods set_dimensions() to set the dimensions and area() to calculate the\n",
        "area.\n",
        "class Rectangle:\n",
        "    def __init__(self, length, width):\n",
        "        self.length = length\n",
        "        self.width = width\n",
        "\n",
        "    def set_dimensions(self, length, width):\n",
        "        self.length = length\n",
        "        self.width = width"
      ],
      "metadata": {
        "colab": {
          "base_uri": "https://localhost:8080/",
          "height": 106
        },
        "id": "_uG_DefytGK4",
        "outputId": "c340edee-8d62-45d6-fbdc-a347601e93c8"
      },
      "execution_count": 16,
      "outputs": [
        {
          "output_type": "error",
          "ename": "SyntaxError",
          "evalue": "invalid syntax (<ipython-input-16-0f49d6e79bd2>, line 1)",
          "traceback": [
            "\u001b[0;36m  File \u001b[0;32m\"<ipython-input-16-0f49d6e79bd2>\"\u001b[0;36m, line \u001b[0;32m1\u001b[0m\n\u001b[0;31m    Create a class Rectangle with methods set_dimensions() to set the dimensions and area() to calculate the\u001b[0m\n\u001b[0m           ^\u001b[0m\n\u001b[0;31mSyntaxError\u001b[0m\u001b[0;31m:\u001b[0m invalid syntax\n"
          ]
        }
      ]
    },
    {
      "cell_type": "code",
      "source": [
        "Create a class Employee with a method calculate_salary() that computes the salary based on hours worked\n",
        "and hourly rate. Create a derived class Manager that adds a bonus to the salary.\n",
        "class Employee:\n",
        "    def __init__(self, name, hours_worked, hourly_rate):\n",
        "        self.name = name\n",
        "        self.hours_worked = hours_worked\n",
        "        self.hourly_rate = hourly"
      ],
      "metadata": {
        "colab": {
          "base_uri": "https://localhost:8080/",
          "height": 106
        },
        "id": "7AvAbK8GtcR5",
        "outputId": "449dd3f1-66c7-4afc-b6ee-98bfae53aa60"
      },
      "execution_count": 17,
      "outputs": [
        {
          "output_type": "error",
          "ename": "SyntaxError",
          "evalue": "invalid syntax (<ipython-input-17-260a88a3f982>, line 1)",
          "traceback": [
            "\u001b[0;36m  File \u001b[0;32m\"<ipython-input-17-260a88a3f982>\"\u001b[0;36m, line \u001b[0;32m1\u001b[0m\n\u001b[0;31m    Create a class Employee with a method calculate_salary() that computes the salary based on hours worked\u001b[0m\n\u001b[0m           ^\u001b[0m\n\u001b[0;31mSyntaxError\u001b[0m\u001b[0;31m:\u001b[0m invalid syntax\n"
          ]
        }
      ]
    },
    {
      "cell_type": "code",
      "source": [
        "Create a class Product with attributes name, price, and quantity. Implement a method total_price() that\n",
        "calculates the total price of the product.\n",
        "class Product:\n",
        "    def __init__(self, name, price, quantity):\n",
        "        self.name = name\n",
        "        self.price = price\n",
        "        self.quantity = quantity"
      ],
      "metadata": {
        "colab": {
          "base_uri": "https://localhost:8080/",
          "height": 106
        },
        "id": "I_A6ApM5tr8u",
        "outputId": "795df5a4-d8a4-47d2-d7d6-65f59c1110ee"
      },
      "execution_count": 18,
      "outputs": [
        {
          "output_type": "error",
          "ename": "SyntaxError",
          "evalue": "invalid syntax (<ipython-input-18-1f05a394c565>, line 1)",
          "traceback": [
            "\u001b[0;36m  File \u001b[0;32m\"<ipython-input-18-1f05a394c565>\"\u001b[0;36m, line \u001b[0;32m1\u001b[0m\n\u001b[0;31m    Create a class Product with attributes name, price, and quantity. Implement a method total_price() that\u001b[0m\n\u001b[0m           ^\u001b[0m\n\u001b[0;31mSyntaxError\u001b[0m\u001b[0;31m:\u001b[0m invalid syntax\n"
          ]
        }
      ]
    },
    {
      "cell_type": "code",
      "source": [
        " Create a class Animal with an abstract method sound(). Create two derived classes Cow and Sheep that\n",
        "implement the sound() method\n",
        "from abc import ABC, abstractmethod\n",
        "\n",
        "class Animal(ABC):\n",
        "    @abstractmethod\n",
        "    def sound(self):\n",
        "        pass"
      ],
      "metadata": {
        "colab": {
          "base_uri": "https://localhost:8080/",
          "height": 106
        },
        "id": "bYd6aMecuKyD",
        "outputId": "4739b16c-892d-42f3-b53c-f9a1b55a4a7f"
      },
      "execution_count": 19,
      "outputs": [
        {
          "output_type": "error",
          "ename": "SyntaxError",
          "evalue": "invalid syntax (<ipython-input-19-e0622a0e04cf>, line 1)",
          "traceback": [
            "\u001b[0;36m  File \u001b[0;32m\"<ipython-input-19-e0622a0e04cf>\"\u001b[0;36m, line \u001b[0;32m1\u001b[0m\n\u001b[0;31m    Create a class Animal with an abstract method sound(). Create two derived classes Cow and Sheep that\u001b[0m\n\u001b[0m           ^\u001b[0m\n\u001b[0;31mSyntaxError\u001b[0m\u001b[0;31m:\u001b[0m invalid syntax\n"
          ]
        }
      ]
    },
    {
      "cell_type": "code",
      "source": [
        "Create a class Book with attributes title, author, and year_published. Add a method get_book_info() that\n",
        "returns a formatted string with the book's details\n",
        "class Book:\n",
        "    def __init__(self, title, author, year_published):\n",
        "        self.title = title\n",
        "        self.author = author\n",
        "        self.year_published = year_published\n",
        "\n",
        "    def get_book_info(self):"
      ],
      "metadata": {
        "colab": {
          "base_uri": "https://localhost:8080/",
          "height": 106
        },
        "id": "j6baJ_Rbumrz",
        "outputId": "43f3976f-4a4f-4d11-c478-87c45fb33d00"
      },
      "execution_count": 20,
      "outputs": [
        {
          "output_type": "error",
          "ename": "SyntaxError",
          "evalue": "unterminated string literal (detected at line 2) (<ipython-input-20-1c1abc642052>, line 2)",
          "traceback": [
            "\u001b[0;36m  File \u001b[0;32m\"<ipython-input-20-1c1abc642052>\"\u001b[0;36m, line \u001b[0;32m2\u001b[0m\n\u001b[0;31m    returns a formatted string with the book's details\u001b[0m\n\u001b[0m                                            ^\u001b[0m\n\u001b[0;31mSyntaxError\u001b[0m\u001b[0;31m:\u001b[0m unterminated string literal (detected at line 2)\n"
          ]
        }
      ]
    },
    {
      "cell_type": "code",
      "source": [
        "Create a class House with attributes address and price. Create a derived class Mansion that adds an\n",
        "attribute number_of_rooms\n",
        "class House:\n",
        "    def __init__(self, address, price):\n",
        "        self.address = address\n",
        "        self.\n",
        ""
      ],
      "metadata": {
        "colab": {
          "base_uri": "https://localhost:8080/",
          "height": 106
        },
        "id": "rnx8i19EvAER",
        "outputId": "ceb1cafd-cabd-4061-9737-f26400a02436"
      },
      "execution_count": 21,
      "outputs": [
        {
          "output_type": "error",
          "ename": "SyntaxError",
          "evalue": "invalid syntax (<ipython-input-21-4c7948f51c36>, line 1)",
          "traceback": [
            "\u001b[0;36m  File \u001b[0;32m\"<ipython-input-21-4c7948f51c36>\"\u001b[0;36m, line \u001b[0;32m1\u001b[0m\n\u001b[0;31m    Create a class House with attributes address and price. Create a derived class Mansion that adds an\u001b[0m\n\u001b[0m           ^\u001b[0m\n\u001b[0;31mSyntaxError\u001b[0m\u001b[0;31m:\u001b[0m invalid syntax\n"
          ]
        }
      ]
    },
    {
      "cell_type": "code",
      "source": [],
      "metadata": {
        "id": "GDK4gGLsvHdj"
      },
      "execution_count": null,
      "outputs": []
    }
  ]
}